{
 "nbformat": 4,
 "nbformat_minor": 2,
 "metadata": {
  "language_info": {
   "name": "python",
   "codemirror_mode": {
    "name": "ipython",
    "version": 3
   },
   "version": "3.7.3-final"
  },
  "orig_nbformat": 2,
  "file_extension": ".py",
  "mimetype": "text/x-python",
  "name": "python",
  "npconvert_exporter": "python",
  "pygments_lexer": "ipython3",
  "version": 3,
  "kernelspec": {
   "name": "python3",
   "display_name": "Python 3"
  }
 },
 "cells": [
  {
   "cell_type": "markdown",
   "metadata": {},
   "source": [
    "Lists = []\n",
    "\n",
    "Dictionary = {}\n",
    "\n",
    "Tuples = ()"
   ]
  },
  {
   "cell_type": "code",
   "execution_count": 67,
   "metadata": {},
   "outputs": [
    {
     "output_type": "stream",
     "name": "stdout",
     "text": "['Beer', 'Bread', 'Eggs', 'Milk', 'Coffee']\ndict_keys(['Beer', 'Bread', 'Eggs', 'Coffee'])\ndict_values([24, 1, 12, 1])\n"
    }
   ],
   "source": [
    "Groceries = ['Beer', 'Bread', 'Eggs', 'Milk', 'Coffee']\n",
    "Stock = {'Beer': 24, 'Bread':1, 'Eggs':12, 'Coffee':1}\n",
    "print(Groceries)\n",
    "print(Stock.keys())\n",
    "print(Stock.values())\n",
    ""
   ]
  },
  {
   "cell_type": "code",
   "execution_count": 68,
   "metadata": {},
   "outputs": [
    {
     "output_type": "stream",
     "name": "stdout",
     "text": "24\n{'Beer': 24, 'Bread': 1, 'Eggs': 12, 'Coffee': 1, 'Butter': 1}\n"
    }
   ],
   "source": [
    "print(Stock[\"Beer\"])\n",
    "Stock[\"Butter\"]=1\n",
    "print(Stock)"
   ]
  },
  {
   "cell_type": "code",
   "execution_count": 69,
   "metadata": {},
   "outputs": [],
   "source": [
    "def getList():\n",
    "    for value in Stock.keys():\n",
    "        print(value +\" \"+ str(Stock[value]))\n",
    ""
   ]
  },
  {
   "cell_type": "code",
   "execution_count": 70,
   "metadata": {},
   "outputs": [
    {
     "output_type": "stream",
     "name": "stdout",
     "text": "Beer 12\nBread 1\nEggs 12\nCoffee 1\nButter 1\n"
    }
   ],
   "source": [
    "Stock[\"Beer\"]=12\n",
    "getList()"
   ]
  },
  {
   "cell_type": "code",
   "execution_count": 71,
   "metadata": {},
   "outputs": [
    {
     "output_type": "stream",
     "name": "stdout",
     "text": "Beer 12\nBread 2\nEggs 12\nCoffee 1\nButter 1\n"
    }
   ],
   "source": [
    "Stock[\"Bread\"]=2\n",
    "getList()"
   ]
  },
  {
   "cell_type": "code",
   "execution_count": 72,
   "metadata": {},
   "outputs": [
    {
     "output_type": "stream",
     "name": "stdout",
     "text": "Beer 12\nBread 2\nEggs 12\nCoffee 1\n"
    }
   ],
   "source": [
    "#del Stock[\"Butter\"]\n",
    "Stock.pop('Butter', None)\n",
    "getList()"
   ]
  },
  {
   "cell_type": "code",
   "execution_count": 83,
   "metadata": {},
   "outputs": [
    {
     "output_type": "stream",
     "name": "stdout",
     "text": "['Beer', 'Bread', 'Eggs', 'Milk', 'Coffee']\n(0, 'Beer')\n(1, 'Bread')\n(2, 'Eggs')\n(3, 'Milk')\n(4, 'Coffee')\n"
    }
   ],
   "source": [
    "print(Groceries)\n",
    "for i in enumerate(Groceries):\n",
    "    print(i)"
   ]
  },
  {
   "cell_type": "code",
   "execution_count": 96,
   "metadata": {},
   "outputs": [],
   "source": [
    "def listToDict(listToDict):\n",
    "    initList = [1,2,3,4,5]\n",
    "    grocery = zip(Groceries, initList)\n",
    "    groceryList = dict(grocery)\n",
    "    return groceryList\n",
    ""
   ]
  },
  {
   "cell_type": "code",
   "execution_count": 97,
   "metadata": {},
   "outputs": [
    {
     "output_type": "stream",
     "name": "stdout",
     "text": "{'Beer': 1, 'Bread': 2, 'Eggs': 3, 'Milk': 4, 'Coffee': 5}\n"
    }
   ],
   "source": [
    "ls = listToDict(Groceries)\n",
    "print(ls)"
   ]
  },
  {
   "cell_type": "code",
   "execution_count": 100,
   "metadata": {},
   "outputs": [
    {
     "output_type": "execute_result",
     "data": {
      "text/plain": "{'Beer': 24, 'Bread': 2, 'Eggs': 3, 'Milk': 4, 'Coffee': 5}"
     },
     "metadata": {},
     "execution_count": 100
    }
   ],
   "source": [
    "ls['Beer'] = 24\n",
    "ls"
   ]
  },
  {
   "cell_type": "code",
   "execution_count": 115,
   "metadata": {},
   "outputs": [
    {
     "output_type": "error",
     "ename": "TypeError",
     "evalue": "__init__() got an unexpected keyword argument 'kind'",
     "traceback": [
      "\u001b[0;31m---------------------------------------------------------------------------\u001b[0m",
      "\u001b[0;31mTypeError\u001b[0m                                 Traceback (most recent call last)",
      "\u001b[0;32m<ipython-input-115-255a153463c7>\u001b[0m in \u001b[0;36m<module>\u001b[0;34m\u001b[0m\n\u001b[1;32m      3\u001b[0m \u001b[0;34m\u001b[0m\u001b[0m\n\u001b[1;32m      4\u001b[0m \u001b[0mpd\u001b[0m\u001b[0;34m.\u001b[0m\u001b[0mDataFrame\u001b[0m\u001b[0;34m.\u001b[0m\u001b[0mfrom_dict\u001b[0m\u001b[0;34m(\u001b[0m\u001b[0mls\u001b[0m\u001b[0;34m,\u001b[0m \u001b[0morient\u001b[0m\u001b[0;34m=\u001b[0m\u001b[0;34m'index'\u001b[0m\u001b[0;34m)\u001b[0m\u001b[0;34m\u001b[0m\u001b[0;34m\u001b[0m\u001b[0m\n\u001b[0;32m----> 5\u001b[0;31m \u001b[0mpd\u001b[0m\u001b[0;34m.\u001b[0m\u001b[0mDataFrame\u001b[0m\u001b[0;34m.\u001b[0m\u001b[0mplot\u001b[0m\u001b[0;34m(\u001b[0m\u001b[0mls\u001b[0m\u001b[0;34m,\u001b[0m\u001b[0mkind\u001b[0m\u001b[0;34m=\u001b[0m\u001b[0;34m'bar'\u001b[0m\u001b[0;34m)\u001b[0m\u001b[0;34m\u001b[0m\u001b[0;34m\u001b[0m\u001b[0m\n\u001b[0m\u001b[1;32m      6\u001b[0m \u001b[0mplt\u001b[0m\u001b[0;34m.\u001b[0m\u001b[0mshow\u001b[0m\u001b[0;34m(\u001b[0m\u001b[0;34m)\u001b[0m\u001b[0;34m\u001b[0m\u001b[0;34m\u001b[0m\u001b[0m\n",
      "\u001b[0;31mTypeError\u001b[0m: __init__() got an unexpected keyword argument 'kind'"
     ]
    }
   ],
   "source": [
    "import pandas as pd\n",
    "import matplotlib.pyplot as plt\n",
    "\n",
    "pd.DataFrame.from_dict(ls, orient='index')\n",
    "pd.DataFrame.plot(data=ls,kind='bar')\n",
    "plt.show()"
   ]
  },
  {
   "cell_type": "code",
   "execution_count": null,
   "metadata": {},
   "outputs": [],
   "source": []
  }
 ]
}