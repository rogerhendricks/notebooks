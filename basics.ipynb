{
 "cells": [
  {
   "cell_type": "code",
   "execution_count": null,
   "metadata": {
    "colab": {},
    "colab_type": "code",
    "id": "fxsQRYoNh9mA"
   },
   "outputs": [],
   "source": [
    "def print_args(*args):\n",
    "    for arg in args:\n",
    "        print(arg)"
   ]
  },
  {
   "cell_type": "code",
   "execution_count": null,
   "metadata": {
    "colab": {
     "base_uri": "https://localhost:8080/",
     "height": 102
    },
    "colab_type": "code",
    "executionInfo": {
     "elapsed": 800,
     "status": "ok",
     "timestamp": 1552623021823,
     "user": {
      "displayName": "Roger Hendricks",
      "photoUrl": "https://lh6.googleusercontent.com/-3g3eMew8CaQ/AAAAAAAAAAI/AAAAAAAANU0/j6ZbeNXZscw/s64/photo.jpg",
      "userId": "00955239753993428518"
     },
     "user_tz": -660
    },
    "id": "FDbFFiGkiGpw",
    "outputId": "5af90cc0-f168-4f12-ee7d-5c89fbac8578"
   },
   "outputs": [],
   "source": [
    "print_args(1, 2, 3, 4, 5)"
   ]
  },
  {
   "cell_type": "markdown",
   "metadata": {
    "colab_type": "text",
    "id": "KodkmtGvcvuy"
   },
   "source": [
    "joining strings"
   ]
  },
  {
   "cell_type": "code",
   "execution_count": 0,
   "metadata": {
    "colab": {},
    "colab_type": "code",
    "id": "l5G5Ia75ylxM"
   },
   "outputs": [],
   "source": [
    "string1 = \"1 2 3\""
   ]
  },
  {
   "cell_type": "code",
   "execution_count": 0,
   "metadata": {
    "colab": {},
    "colab_type": "code",
    "id": "hc1v3I_kalJn"
   },
   "outputs": [],
   "source": [
    "string2 = \"A B C\""
   ]
  },
  {
   "cell_type": "code",
   "execution_count": 0,
   "metadata": {
    "colab": {},
    "colab_type": "code",
    "id": "wkZi2aIIapCm"
   },
   "outputs": [],
   "source": [
    "string3 = string1 + string2 "
   ]
  },
  {
   "cell_type": "code",
   "execution_count": 0,
   "metadata": {
    "colab": {},
    "colab_type": "code",
    "id": "N7Oz4THzcAzc"
   },
   "outputs": [],
   "source": [
    "string4 = string2.join(string1)"
   ]
  },
  {
   "cell_type": "code",
   "execution_count": 0,
   "metadata": {
    "colab": {},
    "colab_type": "code",
    "id": "PneV1MjlcIzU"
   },
   "outputs": [],
   "source": [
    "print(string3)"
   ]
  },
  {
   "cell_type": "code",
   "execution_count": 0,
   "metadata": {
    "colab": {},
    "colab_type": "code",
    "id": "Smt8QnBbcMdc"
   },
   "outputs": [],
   "source": [
    "print(string4)"
   ]
  },
  {
   "cell_type": "markdown",
   "metadata": {
    "colab_type": "text",
    "id": "vYFzBKkHcp8z"
   },
   "source": [
    "splitting a string"
   ]
  },
  {
   "cell_type": "code",
   "execution_count": 0,
   "metadata": {
    "colab": {},
    "colab_type": "code",
    "id": "vpFquoMRczZz"
   },
   "outputs": [],
   "source": [
    "split_me=\"My Wife hates spam\""
   ]
  },
  {
   "cell_type": "code",
   "execution_count": 0,
   "metadata": {
    "colab": {
     "base_uri": "https://localhost:8080/",
     "height": 34
    },
    "colab_type": "code",
    "executionInfo": {
     "elapsed": 830,
     "status": "ok",
     "timestamp": 1553040920249,
     "user": {
      "displayName": "Roger Hendricks",
      "photoUrl": "https://lh6.googleusercontent.com/-3g3eMew8CaQ/AAAAAAAAAAI/AAAAAAAANU0/j6ZbeNXZscw/s64/photo.jpg",
      "userId": "00955239753993428518"
     },
     "user_tz": -660
    },
    "id": "S5_iIAQhc5rK",
    "outputId": "f0ebf677-f551-4dde-8a6f-00407451d381"
   },
   "outputs": [
    {
     "data": {
      "text/plain": [
       "['My', 'Wife', 'hates', 'spam']"
      ]
     },
     "execution_count": 8,
     "metadata": {
      "tags": []
     },
     "output_type": "execute_result"
    }
   ],
   "source": [
    "split_me.split()"
   ]
  },
  {
   "cell_type": "markdown",
   "metadata": {
    "colab_type": "text",
    "id": "NzZZIofqdAoi"
   },
   "source": [
    "**Lists**"
   ]
  },
  {
   "cell_type": "code",
   "execution_count": 0,
   "metadata": {
    "colab": {},
    "colab_type": "code",
    "id": "Cfdcl55xdNaW"
   },
   "outputs": [],
   "source": [
    "l = [1,2,3,4,5]"
   ]
  },
  {
   "cell_type": "code",
   "execution_count": 0,
   "metadata": {
    "colab": {
     "base_uri": "https://localhost:8080/",
     "height": 34
    },
    "colab_type": "code",
    "executionInfo": {
     "elapsed": 793,
     "status": "ok",
     "timestamp": 1553041097852,
     "user": {
      "displayName": "Roger Hendricks",
      "photoUrl": "https://lh6.googleusercontent.com/-3g3eMew8CaQ/AAAAAAAAAAI/AAAAAAAANU0/j6ZbeNXZscw/s64/photo.jpg",
      "userId": "00955239753993428518"
     },
     "user_tz": -660
    },
    "id": "hrmBmaN0dQ-J",
    "outputId": "084cdfdb-56c5-47cf-8b5b-b03d1e0318b0"
   },
   "outputs": [
    {
     "data": {
      "text/plain": [
       "[1, 2, 3, 4, 5]"
      ]
     },
     "execution_count": 17,
     "metadata": {
      "tags": []
     },
     "output_type": "execute_result"
    }
   ],
   "source": [
    "l"
   ]
  },
  {
   "cell_type": "code",
   "execution_count": 0,
   "metadata": {
    "colab": {
     "base_uri": "https://localhost:8080/",
     "height": 34
    },
    "colab_type": "code",
    "executionInfo": {
     "elapsed": 812,
     "status": "ok",
     "timestamp": 1553041107197,
     "user": {
      "displayName": "Roger Hendricks",
      "photoUrl": "https://lh6.googleusercontent.com/-3g3eMew8CaQ/AAAAAAAAAAI/AAAAAAAANU0/j6ZbeNXZscw/s64/photo.jpg",
      "userId": "00955239753993428518"
     },
     "user_tz": -660
    },
    "id": "z5u8qokndWDR",
    "outputId": "2e57da89-e5f9-47b3-c0e1-f7a8cedaa6e2"
   },
   "outputs": [
    {
     "data": {
      "text/plain": [
       "5"
      ]
     },
     "execution_count": 18,
     "metadata": {
      "tags": []
     },
     "output_type": "execute_result"
    }
   ],
   "source": [
    "l.pop(4)"
   ]
  },
  {
   "cell_type": "code",
   "execution_count": 0,
   "metadata": {
    "colab": {
     "base_uri": "https://localhost:8080/",
     "height": 34
    },
    "colab_type": "code",
    "executionInfo": {
     "elapsed": 792,
     "status": "ok",
     "timestamp": 1553041109329,
     "user": {
      "displayName": "Roger Hendricks",
      "photoUrl": "https://lh6.googleusercontent.com/-3g3eMew8CaQ/AAAAAAAAAAI/AAAAAAAANU0/j6ZbeNXZscw/s64/photo.jpg",
      "userId": "00955239753993428518"
     },
     "user_tz": -660
    },
    "id": "yw6312VJddCQ",
    "outputId": "f18aac79-dd25-4d23-8aee-35830e6aa21a"
   },
   "outputs": [
    {
     "data": {
      "text/plain": [
       "[1, 2, 3, 4]"
      ]
     },
     "execution_count": 19,
     "metadata": {
      "tags": []
     },
     "output_type": "execute_result"
    }
   ],
   "source": [
    "l"
   ]
  },
  {
   "cell_type": "code",
   "execution_count": 0,
   "metadata": {
    "colab": {},
    "colab_type": "code",
    "id": "Yi0TkS-QdsdR"
   },
   "outputs": [],
   "source": [
    "l.append(5)"
   ]
  },
  {
   "cell_type": "code",
   "execution_count": 0,
   "metadata": {
    "colab": {
     "base_uri": "https://localhost:8080/",
     "height": 34
    },
    "colab_type": "code",
    "executionInfo": {
     "elapsed": 869,
     "status": "ok",
     "timestamp": 1553041132280,
     "user": {
      "displayName": "Roger Hendricks",
      "photoUrl": "https://lh6.googleusercontent.com/-3g3eMew8CaQ/AAAAAAAAAAI/AAAAAAAANU0/j6ZbeNXZscw/s64/photo.jpg",
      "userId": "00955239753993428518"
     },
     "user_tz": -660
    },
    "id": "UvCTQq7AdvWB",
    "outputId": "cf5afc00-fe46-445f-e662-6fbb512af9ec"
   },
   "outputs": [
    {
     "data": {
      "text/plain": [
       "[1, 2, 3, 4, 5]"
      ]
     },
     "execution_count": 21,
     "metadata": {
      "tags": []
     },
     "output_type": "execute_result"
    }
   ],
   "source": [
    "l"
   ]
  },
  {
   "cell_type": "code",
   "execution_count": 0,
   "metadata": {
    "colab": {
     "base_uri": "https://localhost:8080/",
     "height": 34
    },
    "colab_type": "code",
    "executionInfo": {
     "elapsed": 907,
     "status": "ok",
     "timestamp": 1553041153365,
     "user": {
      "displayName": "Roger Hendricks",
      "photoUrl": "https://lh6.googleusercontent.com/-3g3eMew8CaQ/AAAAAAAAAAI/AAAAAAAANU0/j6ZbeNXZscw/s64/photo.jpg",
      "userId": "00955239753993428518"
     },
     "user_tz": -660
    },
    "id": "6SlBQmQPdzzB",
    "outputId": "08820e41-2585-45ef-cb76-ecd736c65495"
   },
   "outputs": [
    {
     "data": {
      "text/plain": [
       "1"
      ]
     },
     "execution_count": 22,
     "metadata": {
      "tags": []
     },
     "output_type": "execute_result"
    }
   ],
   "source": [
    "l[0]"
   ]
  },
  {
   "cell_type": "code",
   "execution_count": 0,
   "metadata": {
    "colab": {
     "base_uri": "https://localhost:8080/",
     "height": 102
    },
    "colab_type": "code",
    "executionInfo": {
     "elapsed": 761,
     "status": "ok",
     "timestamp": 1553041305688,
     "user": {
      "displayName": "Roger Hendricks",
      "photoUrl": "https://lh6.googleusercontent.com/-3g3eMew8CaQ/AAAAAAAAAAI/AAAAAAAANU0/j6ZbeNXZscw/s64/photo.jpg",
      "userId": "00955239753993428518"
     },
     "user_tz": -660
    },
    "id": "gHmgxkL8eEeA",
    "outputId": "878afdac-d390-41a3-d0d3-0d4ac02477d3"
   },
   "outputs": [
    {
     "name": "stdout",
     "output_type": "stream",
     "text": [
      "number 1\n",
      "number 2\n",
      "number 3\n",
      "number 4\n",
      "number 5\n"
     ]
    }
   ],
   "source": [
    "for number in l:\n",
    "  print(\"number \"+ str(number))"
   ]
  },
  {
   "cell_type": "code",
   "execution_count": 0,
   "metadata": {
    "colab": {},
    "colab_type": "code",
    "id": "0IbdJIYveq4H"
   },
   "outputs": [],
   "source": [
    "number_list=[number for number in l]"
   ]
  },
  {
   "cell_type": "code",
   "execution_count": 0,
   "metadata": {
    "colab": {
     "base_uri": "https://localhost:8080/",
     "height": 34
    },
    "colab_type": "code",
    "executionInfo": {
     "elapsed": 760,
     "status": "ok",
     "timestamp": 1553041454207,
     "user": {
      "displayName": "Roger Hendricks",
      "photoUrl": "https://lh6.googleusercontent.com/-3g3eMew8CaQ/AAAAAAAAAAI/AAAAAAAANU0/j6ZbeNXZscw/s64/photo.jpg",
      "userId": "00955239753993428518"
     },
     "user_tz": -660
    },
    "id": "Lw_I437Le9z2",
    "outputId": "d5662423-3d28-4368-85c3-3ab94b9df024"
   },
   "outputs": [
    {
     "data": {
      "text/plain": [
       "[1, 2, 3, 4, 5]"
      ]
     },
     "execution_count": 32,
     "metadata": {
      "tags": []
     },
     "output_type": "execute_result"
    }
   ],
   "source": [
    "number_list"
   ]
  },
  {
   "cell_type": "code",
   "execution_count": 0,
   "metadata": {
    "colab": {
     "base_uri": "https://localhost:8080/",
     "height": 34
    },
    "colab_type": "code",
    "executionInfo": {
     "elapsed": 734,
     "status": "ok",
     "timestamp": 1553041436367,
     "user": {
      "displayName": "Roger Hendricks",
      "photoUrl": "https://lh6.googleusercontent.com/-3g3eMew8CaQ/AAAAAAAAAAI/AAAAAAAANU0/j6ZbeNXZscw/s64/photo.jpg",
      "userId": "00955239753993428518"
     },
     "user_tz": -660
    },
    "id": "Sm5-GKh4ewN_",
    "outputId": "b3e023f2-483c-488a-c73a-94399857c770"
   },
   "outputs": [
    {
     "data": {
      "text/plain": [
       "2"
      ]
     },
     "execution_count": 31,
     "metadata": {
      "tags": []
     },
     "output_type": "execute_result"
    }
   ],
   "source": [
    "number_list[1]"
   ]
  },
  {
   "cell_type": "code",
   "execution_count": 0,
   "metadata": {
    "colab": {},
    "colab_type": "code",
    "id": "xg5ADEdZfga3"
   },
   "outputs": [],
   "source": [
    "number_list.append(\"Six\")"
   ]
  },
  {
   "cell_type": "code",
   "execution_count": 0,
   "metadata": {
    "colab": {
     "base_uri": "https://localhost:8080/",
     "height": 34
    },
    "colab_type": "code",
    "executionInfo": {
     "elapsed": 802,
     "status": "ok",
     "timestamp": 1553041630376,
     "user": {
      "displayName": "Roger Hendricks",
      "photoUrl": "https://lh6.googleusercontent.com/-3g3eMew8CaQ/AAAAAAAAAAI/AAAAAAAANU0/j6ZbeNXZscw/s64/photo.jpg",
      "userId": "00955239753993428518"
     },
     "user_tz": -660
    },
    "id": "H1ftJfIvfnzF",
    "outputId": "c0503118-6015-4056-d2a4-e2de5d60752c"
   },
   "outputs": [
    {
     "data": {
      "text/plain": [
       "[1, 2, 3, 4, 5, 'Six']"
      ]
     },
     "execution_count": 34,
     "metadata": {
      "tags": []
     },
     "output_type": "execute_result"
    }
   ],
   "source": [
    "number_list"
   ]
  },
  {
   "cell_type": "code",
   "execution_count": 0,
   "metadata": {
    "colab": {},
    "colab_type": "code",
    "id": "grfVL0wufwrU"
   },
   "outputs": [],
   "source": [
    "number_list.insert(3, \"Three\")"
   ]
  },
  {
   "cell_type": "code",
   "execution_count": 0,
   "metadata": {
    "colab": {
     "base_uri": "https://localhost:8080/",
     "height": 34
    },
    "colab_type": "code",
    "executionInfo": {
     "elapsed": 848,
     "status": "ok",
     "timestamp": 1553041688777,
     "user": {
      "displayName": "Roger Hendricks",
      "photoUrl": "https://lh6.googleusercontent.com/-3g3eMew8CaQ/AAAAAAAAAAI/AAAAAAAANU0/j6ZbeNXZscw/s64/photo.jpg",
      "userId": "00955239753993428518"
     },
     "user_tz": -660
    },
    "id": "9vwjQN2Jf20S",
    "outputId": "db811a48-811f-438f-c98c-d020d12d962b"
   },
   "outputs": [
    {
     "data": {
      "text/plain": [
       "[1, 2, 3, 'Three', 4, 5, 'Six']"
      ]
     },
     "execution_count": 36,
     "metadata": {
      "tags": []
     },
     "output_type": "execute_result"
    }
   ],
   "source": [
    "number_list"
   ]
  },
  {
   "cell_type": "markdown",
   "metadata": {
    "colab_type": "text",
    "id": "4ywhgFVAgMgD"
   },
   "source": [
    "concatenate lists"
   ]
  },
  {
   "cell_type": "code",
   "execution_count": 0,
   "metadata": {
    "colab": {},
    "colab_type": "code",
    "id": "R-tzJPy9gPJz"
   },
   "outputs": [],
   "source": [
    "new_list=[\"One\", \"Two\", \"Three\"]"
   ]
  },
  {
   "cell_type": "code",
   "execution_count": 0,
   "metadata": {
    "colab": {},
    "colab_type": "code",
    "id": "r1G44ywNgWrq"
   },
   "outputs": [],
   "source": [
    "number_list.extend(new_list)"
   ]
  },
  {
   "cell_type": "code",
   "execution_count": 0,
   "metadata": {
    "colab": {
     "base_uri": "https://localhost:8080/",
     "height": 34
    },
    "colab_type": "code",
    "executionInfo": {
     "elapsed": 766,
     "status": "ok",
     "timestamp": 1553041840913,
     "user": {
      "displayName": "Roger Hendricks",
      "photoUrl": "https://lh6.googleusercontent.com/-3g3eMew8CaQ/AAAAAAAAAAI/AAAAAAAANU0/j6ZbeNXZscw/s64/photo.jpg",
      "userId": "00955239753993428518"
     },
     "user_tz": -660
    },
    "id": "57z0XwjxgbtJ",
    "outputId": "25cce37c-7429-4c7c-90c3-392124caf6c5"
   },
   "outputs": [
    {
     "data": {
      "text/plain": [
       "[1, 2, 3, 'Three', 4, 5, 'Six', 'One', 'Two', 'Three']"
      ]
     },
     "execution_count": 39,
     "metadata": {
      "tags": []
     },
     "output_type": "execute_result"
    }
   ],
   "source": [
    "number_list"
   ]
  },
  {
   "cell_type": "markdown",
   "metadata": {
    "colab_type": "text",
    "id": "pArBjzdhjONG"
   },
   "source": [
    "list mutability"
   ]
  },
  {
   "cell_type": "code",
   "execution_count": 0,
   "metadata": {
    "colab": {},
    "colab_type": "code",
    "id": "D1T92TE_jQKp"
   },
   "outputs": [],
   "source": [
    "l1 = [\"spam\", \"Spam\", \"SPAM\"]"
   ]
  },
  {
   "cell_type": "code",
   "execution_count": 0,
   "metadata": {
    "colab": {},
    "colab_type": "code",
    "id": "emwRcN2RjVWH"
   },
   "outputs": [],
   "source": [
    "l1[1]=\"eggs\""
   ]
  },
  {
   "cell_type": "code",
   "execution_count": 0,
   "metadata": {
    "colab": {
     "base_uri": "https://localhost:8080/",
     "height": 34
    },
    "colab_type": "code",
    "executionInfo": {
     "elapsed": 806,
     "status": "ok",
     "timestamp": 1553042623959,
     "user": {
      "displayName": "Roger Hendricks",
      "photoUrl": "https://lh6.googleusercontent.com/-3g3eMew8CaQ/AAAAAAAAAAI/AAAAAAAANU0/j6ZbeNXZscw/s64/photo.jpg",
      "userId": "00955239753993428518"
     },
     "user_tz": -660
    },
    "id": "D6u7LuhqjbqP",
    "outputId": "a59e707e-33ac-470a-90b1-40810d652aa6"
   },
   "outputs": [
    {
     "data": {
      "text/plain": [
       "['spam', 'eggs', 'SPAM']"
      ]
     },
     "execution_count": 43,
     "metadata": {
      "tags": []
     },
     "output_type": "execute_result"
    }
   ],
   "source": [
    "l1"
   ]
  },
  {
   "cell_type": "code",
   "execution_count": 0,
   "metadata": {
    "colab": {
     "base_uri": "https://localhost:8080/",
     "height": 34
    },
    "colab_type": "code",
    "executionInfo": {
     "elapsed": 781,
     "status": "ok",
     "timestamp": 1553042683390,
     "user": {
      "displayName": "Roger Hendricks",
      "photoUrl": "https://lh6.googleusercontent.com/-3g3eMew8CaQ/AAAAAAAAAAI/AAAAAAAANU0/j6ZbeNXZscw/s64/photo.jpg",
      "userId": "00955239753993428518"
     },
     "user_tz": -660
    },
    "id": "MDXAOt1ejeco",
    "outputId": "4bc78c85-da8c-4765-fcbd-b18ea52ec00d"
   },
   "outputs": [
    {
     "name": "stdout",
     "output_type": "stream",
     "text": [
      "['eat', 'more', 'SPAM']\n"
     ]
    }
   ],
   "source": [
    "l1[0:2]=[\"eat\", \"more\"]\n",
    "print(l1)"
   ]
  },
  {
   "cell_type": "markdown",
   "metadata": {
    "colab_type": "text",
    "id": "2y5Hkw5Wj8RR"
   },
   "source": [
    "**Dictonaries**"
   ]
  },
  {
   "cell_type": "code",
   "execution_count": 0,
   "metadata": {
    "colab": {
     "base_uri": "https://localhost:8080/",
     "height": 34
    },
    "colab_type": "code",
    "executionInfo": {
     "elapsed": 771,
     "status": "ok",
     "timestamp": 1553046421861,
     "user": {
      "displayName": "Roger Hendricks",
      "photoUrl": "https://lh6.googleusercontent.com/-3g3eMew8CaQ/AAAAAAAAAAI/AAAAAAAANU0/j6ZbeNXZscw/s64/photo.jpg",
      "userId": "00955239753993428518"
     },
     "user_tz": -660
    },
    "id": "2pPr79yyj-1-",
    "outputId": "795ec26f-3458-4e02-eaab-5c12ba647176"
   },
   "outputs": [
    {
     "data": {
      "text/plain": [
       "'barn'"
      ]
     },
     "execution_count": 45,
     "metadata": {
      "tags": []
     },
     "output_type": "execute_result"
    }
   ],
   "source": [
    "d1={\"cow\":\"barn\", 1:\"pig\", 2:[\"spam\", \"ham\", \"bacon\"]}\n",
    "len(d1)\n",
    "d1[\"cow\"]"
   ]
  },
  {
   "cell_type": "code",
   "execution_count": 0,
   "metadata": {
    "colab": {
     "base_uri": "https://localhost:8080/",
     "height": 34
    },
    "colab_type": "code",
    "executionInfo": {
     "elapsed": 766,
     "status": "ok",
     "timestamp": 1553048320025,
     "user": {
      "displayName": "Roger Hendricks",
      "photoUrl": "https://lh6.googleusercontent.com/-3g3eMew8CaQ/AAAAAAAAAAI/AAAAAAAANU0/j6ZbeNXZscw/s64/photo.jpg",
      "userId": "00955239753993428518"
     },
     "user_tz": -660
    },
    "id": "LmRMZLFax9HI",
    "outputId": "12f9cfd3-cffc-482f-f06b-8d4f2e4ecbfb"
   },
   "outputs": [
    {
     "data": {
      "text/plain": [
       "{1: 'pig', 2: ['spam', 'ham', 'bacon'], 'chicken': 3, 'cow': 'barn'}"
      ]
     },
     "execution_count": 56,
     "metadata": {
      "tags": []
     },
     "output_type": "execute_result"
    }
   ],
   "source": [
    "d1[\"chicken\"]=3\n",
    "d1"
   ]
  },
  {
   "cell_type": "code",
   "execution_count": 0,
   "metadata": {
    "colab": {
     "base_uri": "https://localhost:8080/",
     "height": 34
    },
    "colab_type": "code",
    "executionInfo": {
     "elapsed": 813,
     "status": "ok",
     "timestamp": 1553048323145,
     "user": {
      "displayName": "Roger Hendricks",
      "photoUrl": "https://lh6.googleusercontent.com/-3g3eMew8CaQ/AAAAAAAAAAI/AAAAAAAANU0/j6ZbeNXZscw/s64/photo.jpg",
      "userId": "00955239753993428518"
     },
     "user_tz": -660
    },
    "id": "yVZZBG8g40xj",
    "outputId": "b3c11540-70bc-4ae7-9d3f-ae8ec66e81fb"
   },
   "outputs": [
    {
     "data": {
      "text/plain": [
       "{1: 'pig', 2: ['spam', 'ham', 'bacon'], 'chicken': 4, 'cow': 'barn'}"
      ]
     },
     "execution_count": 57,
     "metadata": {
      "tags": []
     },
     "output_type": "execute_result"
    }
   ],
   "source": [
    "d1[\"chicken\"] +=1\n",
    "d1"
   ]
  },
  {
   "cell_type": "markdown",
   "metadata": {
    "colab_type": "text",
    "id": "iCF0K1ha5UHv"
   },
   "source": [
    "using methods with dict"
   ]
  },
  {
   "cell_type": "code",
   "execution_count": 0,
   "metadata": {
    "colab": {
     "base_uri": "https://localhost:8080/",
     "height": 34
    },
    "colab_type": "code",
    "executionInfo": {
     "elapsed": 775,
     "status": "ok",
     "timestamp": 1553048422498,
     "user": {
      "displayName": "Roger Hendricks",
      "photoUrl": "https://lh6.googleusercontent.com/-3g3eMew8CaQ/AAAAAAAAAAI/AAAAAAAANU0/j6ZbeNXZscw/s64/photo.jpg",
      "userId": "00955239753993428518"
     },
     "user_tz": -660
    },
    "id": "xhlAMoPP5Wdi",
    "outputId": "096a9394-9612-4042-95e4-3793abfa9df4"
   },
   "outputs": [
    {
     "data": {
      "text/plain": [
       "True"
      ]
     },
     "execution_count": 61,
     "metadata": {
      "tags": []
     },
     "output_type": "execute_result"
    }
   ],
   "source": [
    "\"chicken\" in d1"
   ]
  },
  {
   "cell_type": "code",
   "execution_count": 0,
   "metadata": {
    "colab": {
     "base_uri": "https://localhost:8080/",
     "height": 34
    },
    "colab_type": "code",
    "executionInfo": {
     "elapsed": 795,
     "status": "ok",
     "timestamp": 1553048445181,
     "user": {
      "displayName": "Roger Hendricks",
      "photoUrl": "https://lh6.googleusercontent.com/-3g3eMew8CaQ/AAAAAAAAAAI/AAAAAAAANU0/j6ZbeNXZscw/s64/photo.jpg",
      "userId": "00955239753993428518"
     },
     "user_tz": -660
    },
    "id": "dNaOHbyI5k65",
    "outputId": "4b62e59f-9504-4382-b3fd-735271b24896"
   },
   "outputs": [
    {
     "data": {
      "text/plain": [
       "dict_values(['barn', 'pig', ['spam', 'ham', 'bacon'], 4])"
      ]
     },
     "execution_count": 62,
     "metadata": {
      "tags": []
     },
     "output_type": "execute_result"
    }
   ],
   "source": [
    "d1.items()\n",
    "d1.keys()\n",
    "d1.values()"
   ]
  },
  {
   "cell_type": "code",
   "execution_count": 0,
   "metadata": {
    "colab": {
     "base_uri": "https://localhost:8080/",
     "height": 34
    },
    "colab_type": "code",
    "executionInfo": {
     "elapsed": 797,
     "status": "ok",
     "timestamp": 1553048471120,
     "user": {
      "displayName": "Roger Hendricks",
      "photoUrl": "https://lh6.googleusercontent.com/-3g3eMew8CaQ/AAAAAAAAAAI/AAAAAAAANU0/j6ZbeNXZscw/s64/photo.jpg",
      "userId": "00955239753993428518"
     },
     "user_tz": -660
    },
    "id": "6u-DSBjK5ssZ",
    "outputId": "cb1176ba-6ac0-4fd2-c21b-a850cbc3ce68"
   },
   "outputs": [
    {
     "data": {
      "text/plain": [
       "{1: 'pig', 2: ['spam', 'ham', 'bacon'], 'cow': 'barn'}"
      ]
     },
     "execution_count": 63,
     "metadata": {
      "tags": []
     },
     "output_type": "execute_result"
    }
   ],
   "source": [
    "del d1[\"chicken\"]\n",
    "d1"
   ]
  },
  {
   "cell_type": "markdown",
   "metadata": {
    "colab_type": "text",
    "id": "UzOEzU4j6AAi"
   },
   "source": [
    "**Dictonary example**"
   ]
  },
  {
   "cell_type": "code",
   "execution_count": 0,
   "metadata": {
    "colab": {
     "base_uri": "https://localhost:8080/",
     "height": 34
    },
    "colab_type": "code",
    "executionInfo": {
     "elapsed": 783,
     "status": "ok",
     "timestamp": 1553048653048,
     "user": {
      "displayName": "Roger Hendricks",
      "photoUrl": "https://lh6.googleusercontent.com/-3g3eMew8CaQ/AAAAAAAAAAI/AAAAAAAANU0/j6ZbeNXZscw/s64/photo.jpg",
      "userId": "00955239753993428518"
     },
     "user_tz": -660
    },
    "id": "BDWnjc5l6CaR",
    "outputId": "ac17f367-84ff-42d7-c373-e97f00cc2f93"
   },
   "outputs": [
    {
     "data": {
      "text/plain": [
       "'Guido Von Russum'"
      ]
     },
     "execution_count": 64,
     "metadata": {
      "tags": []
     },
     "output_type": "execute_result"
    }
   ],
   "source": [
    "language_author={\"C\":\"Dennis Ritchie\", \"Python\": \"Guido Von Russum\", \"C++\":\"Bjarne Stroustrup\"}\n",
    "language = \"Python\"\n",
    "author = language_author[language]\n",
    "author"
   ]
  },
  {
   "cell_type": "code",
   "execution_count": 0,
   "metadata": {
    "colab": {
     "base_uri": "https://localhost:8080/",
     "height": 68
    },
    "colab_type": "code",
    "executionInfo": {
     "elapsed": 804,
     "status": "ok",
     "timestamp": 1553048766597,
     "user": {
      "displayName": "Roger Hendricks",
      "photoUrl": "https://lh6.googleusercontent.com/-3g3eMew8CaQ/AAAAAAAAAAI/AAAAAAAANU0/j6ZbeNXZscw/s64/photo.jpg",
      "userId": "00955239753993428518"
     },
     "user_tz": -660
    },
    "id": "Fnj_yxcO6dh9",
    "outputId": "8ddd76f6-9fc2-47f4-a48a-d39abe035bd1"
   },
   "outputs": [
    {
     "name": "stdout",
     "output_type": "stream",
     "text": [
      "C \t Dennis Ritchie\n",
      "Python \t Guido Von Russum\n",
      "C++ \t Bjarne Stroustrup\n"
     ]
    }
   ],
   "source": [
    "for lang in language_author.keys():\n",
    "  print(lang, \"\\t\", language_author[lang])"
   ]
  },
  {
   "cell_type": "markdown",
   "metadata": {
    "colab_type": "text",
    "id": "0lTIXaj87GqP"
   },
   "source": [
    "**Tuples**"
   ]
  },
  {
   "cell_type": "code",
   "execution_count": 0,
   "metadata": {
    "colab": {},
    "colab_type": "code",
    "id": "0YGzMjvA7Jp_"
   },
   "outputs": [],
   "source": [
    "inventory={(\"tomato\", \"red\"):48,\n",
    "           (\"tomato\", \"green\"):13,\n",
    "           (\"carrot\", \"orange\"):35,\n",
    "           (\"carrot\", \"purple\"): 8,\n",
    "          (\"spam\", \"regular\"):24,\n",
    "          (\"spam\", \"bacon\"):3,}\n",
    "quantity=inventory[\"tomato\", \"red\"]"
   ]
  },
  {
   "cell_type": "code",
   "execution_count": 0,
   "metadata": {
    "colab": {
     "base_uri": "https://localhost:8080/",
     "height": 34
    },
    "colab_type": "code",
    "executionInfo": {
     "elapsed": 882,
     "status": "ok",
     "timestamp": 1553049991074,
     "user": {
      "displayName": "Roger Hendricks",
      "photoUrl": "https://lh6.googleusercontent.com/-3g3eMew8CaQ/AAAAAAAAAAI/AAAAAAAANU0/j6ZbeNXZscw/s64/photo.jpg",
      "userId": "00955239753993428518"
     },
     "user_tz": -660
    },
    "id": "ZZG_ERZY_hZv",
    "outputId": "75d4a759-ce5a-42fd-ae74-107dde356e0c"
   },
   "outputs": [
    {
     "name": "stdout",
     "output_type": "stream",
     "text": [
      "48\n"
     ]
    }
   ],
   "source": [
    "print(quantity)"
   ]
  },
  {
   "cell_type": "markdown",
   "metadata": {
    "colab_type": "text",
    "id": "3loA14se_t-e"
   },
   "source": [
    "sequence unpacking"
   ]
  },
  {
   "cell_type": "markdown",
   "metadata": {
    "colab_type": "text",
    "id": "3CYLe5G_AHBI"
   },
   "source": [
    "tuple braces are not necessary. the following can be done if tup = 1,2,3,4 as well."
   ]
  },
  {
   "cell_type": "code",
   "execution_count": 0,
   "metadata": {
    "colab": {},
    "colab_type": "code",
    "id": "6ZHwOFgE_vrm"
   },
   "outputs": [],
   "source": [
    "tup={1,2,3,4}\n",
    "first, second, third, fourth = tup"
   ]
  },
  {
   "cell_type": "code",
   "execution_count": 0,
   "metadata": {
    "colab": {
     "base_uri": "https://localhost:8080/",
     "height": 34
    },
    "colab_type": "code",
    "executionInfo": {
     "elapsed": 788,
     "status": "ok",
     "timestamp": 1553050078997,
     "user": {
      "displayName": "Roger Hendricks",
      "photoUrl": "https://lh6.googleusercontent.com/-3g3eMew8CaQ/AAAAAAAAAAI/AAAAAAAANU0/j6ZbeNXZscw/s64/photo.jpg",
      "userId": "00955239753993428518"
     },
     "user_tz": -660
    },
    "id": "vqUkxz11_3oW",
    "outputId": "6190740d-f477-4758-fb42-29079e78211f"
   },
   "outputs": [
    {
     "data": {
      "text/plain": [
       "1"
      ]
     },
     "execution_count": 69,
     "metadata": {
      "tags": []
     },
     "output_type": "execute_result"
    }
   ],
   "source": [
    "first"
   ]
  },
  {
   "cell_type": "code",
   "execution_count": 0,
   "metadata": {
    "colab": {
     "base_uri": "https://localhost:8080/",
     "height": 34
    },
    "colab_type": "code",
    "executionInfo": {
     "elapsed": 831,
     "status": "ok",
     "timestamp": 1553050089815,
     "user": {
      "displayName": "Roger Hendricks",
      "photoUrl": "https://lh6.googleusercontent.com/-3g3eMew8CaQ/AAAAAAAAAAI/AAAAAAAANU0/j6ZbeNXZscw/s64/photo.jpg",
      "userId": "00955239753993428518"
     },
     "user_tz": -660
    },
    "id": "G6BGIePm_5zW",
    "outputId": "bbedd991-50f3-4916-fbd2-7c2e8c844d05"
   },
   "outputs": [
    {
     "data": {
      "text/plain": [
       "2"
      ]
     },
     "execution_count": 70,
     "metadata": {
      "tags": []
     },
     "output_type": "execute_result"
    }
   ],
   "source": [
    "second"
   ]
  },
  {
   "cell_type": "markdown",
   "metadata": {
    "colab_type": "text",
    "id": "3EOhvN4wAiql"
   },
   "source": [
    "**Sets**\n",
    "\n",
    "like dictionaries without keys"
   ]
  },
  {
   "cell_type": "markdown",
   "metadata": {
    "colab_type": "text",
    "id": "FKG0PvmvVKtT"
   },
   "source": [
    "**Default Arguments**"
   ]
  },
  {
   "cell_type": "code",
   "execution_count": 0,
   "metadata": {
    "colab": {},
    "colab_type": "code",
    "id": "9x_0fS1OVAvH"
   },
   "outputs": [],
   "source": [
    "def ask(prompt, retries=4, output='Error'):\n",
    "  for _ in range(retries):\n",
    "    response = input(prompt).lower()\n",
    "    if response in ['y', 'yes']:\n",
    "      return True\n",
    "    if response in ['n', 'no']:\n",
    "      return False\n",
    "    print(output)\n",
    "\n",
    "print(ask('Want to know the answer?', 5))\n",
    "    "
   ]
  },
  {
   "cell_type": "markdown",
   "metadata": {
    "colab_type": "text",
    "id": "gLTEMf-xXkBb"
   },
   "source": [
    "**Nested Lists**"
   ]
  },
  {
   "cell_type": "code",
   "execution_count": 46,
   "metadata": {
    "colab": {
     "base_uri": "https://localhost:8080/",
     "height": 34
    },
    "colab_type": "code",
    "executionInfo": {
     "elapsed": 767,
     "status": "ok",
     "timestamp": 1553475461569,
     "user": {
      "displayName": "Roger Hendricks",
      "photoUrl": "https://lh6.googleusercontent.com/-3g3eMew8CaQ/AAAAAAAAAAI/AAAAAAAANU0/j6ZbeNXZscw/s64/photo.jpg",
      "userId": "00955239753993428518"
     },
     "user_tz": -660
    },
    "id": "JhkExHTMWMxX",
    "outputId": "c55fe610-107f-4b42-f483-8ab1f2cdd9c9"
   },
   "outputs": [
    {
     "name": "stdout",
     "output_type": "stream",
     "text": [
      "b\n"
     ]
    }
   ],
   "source": [
    "a = ['a', 'b']\n",
    "n = [1, 2]\n",
    "x = [a, n] # nested list [['a', 'b'][1,2]]\n",
    "\n",
    "print(x[0][1])"
   ]
  },
  {
   "cell_type": "code",
   "execution_count": 50,
   "metadata": {
    "colab": {
     "base_uri": "https://localhost:8080/",
     "height": 34
    },
    "colab_type": "code",
    "executionInfo": {
     "elapsed": 769,
     "status": "ok",
     "timestamp": 1553479128774,
     "user": {
      "displayName": "Roger Hendricks",
      "photoUrl": "https://lh6.googleusercontent.com/-3g3eMew8CaQ/AAAAAAAAAAI/AAAAAAAANU0/j6ZbeNXZscw/s64/photo.jpg",
      "userId": "00955239753993428518"
     },
     "user_tz": -660
    },
    "id": "OPiaYsooapzQ",
    "outputId": "f6c09bd5-567c-481c-f888-4e1457ac922c"
   },
   "outputs": [
    {
     "name": "stdout",
     "output_type": "stream",
     "text": [
      "27\n"
     ]
    }
   ],
   "source": [
    "def maximum_profit(prices):\n",
    "  profit = 0\n",
    "  for i, buy_price in enumerate(prices):\n",
    "    sell_price = max(prices[i:])\n",
    "    profit = max(profit, sell_price - buy_price)\n",
    "  return profit\n",
    "\n",
    "eth_prices = [455, 460, 465, 451, 414, 415, 441]\n",
    "print(maximum_profit(prices=eth_prices))"
   ]
  }
 ],
 "metadata": {
  "colab": {
   "collapsed_sections": [],
   "name": "basics.ipynb",
   "provenance": [],
   "version": "0.3.2"
  },
  "kernelspec": {
   "display_name": "Python 3",
   "language": "python",
   "name": "python3"
  }
 },
 "nbformat": 4,
 "nbformat_minor": 1
}
